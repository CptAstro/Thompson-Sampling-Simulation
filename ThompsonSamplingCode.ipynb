{
  "nbformat": 4,
  "nbformat_minor": 0,
  "metadata": {
    "colab": {
      "name": "ThompsonSamplingCode.ipynb",
      "provenance": [],
      "collapsed_sections": []
    },
    "kernelspec": {
      "name": "python3",
      "display_name": "Python 3"
    }
  },
  "cells": [
    {
      "cell_type": "markdown",
      "metadata": {
        "id": "zYFWHbo5tDzm"
      },
      "source": [
        "<p>Note: The previous samples in this notebook have been moved to ResearchSamples to avoid cluttering this one.</p>\n",
        "\n",
        "<h3>Random probability definitions:</h3>\n",
        "<p>\n",
        "The data we have observed is our \"likelyhood\". Information from our personal experience is our \"prior probability\". In this case the likeyhood would be the conversion rate for an ad based on the results of an iteration while the prior probability is an average overall click rate from some sort of prior knowledge, or can be unknown. \n",
        "</p>\n",
        "<p>\n",
        "<strong>Posterior Distribution</strong>: The combination of our likelyhood and our prior probability. It is calculated by adding the Beta distributions of each:<br>\n",
        "Beta(a,b) = Beta(a1 + a2, b1 + b2) <br>\n",
        "Where a1,b1 are the likelyhood values and a2,b2 are the prior values.\n",
        "</p>\n",
        "<p>\n",
        "As you collect more data, the effect of the prior on our confidence in the solution is reduced. \n",
        "</p>"
      ]
    },
    {
      "cell_type": "markdown",
      "metadata": {
        "id": "dXDseAogteDh"
      },
      "source": [
        "In the \"train\" dataset, grouping the rows by date would give a good distribution of records. \n",
        "Here are the results of counting the number of rows for each date contained in that dataset:\n",
        "\n",
        "<table>\n",
        "  <thead>\n",
        "    <tr>\n",
        "      <th>Date</th>\n",
        "      <th># Rows</th>\n",
        "    </tr>\n",
        "  </thead>\n",
        "  <tbody>\n",
        "    <tr>\n",
        "      <td>1021</td><td>4122995</td>\n",
        "    </tr>\n",
        "    <tr>\n",
        "      <td>1022</td><td>5337126</td>\n",
        "    </tr>\n",
        "    <tr>\n",
        "      <td>1023</td><td>3870752</td>\n",
        "    </tr>\n",
        "    <tr>\n",
        "      <td>1024</td><td>3335302</td>\n",
        "    </tr>\n",
        "    <tr>\n",
        "      <td>1025</td><td>3363122</td>\n",
        "    </tr>\n",
        "    <tr>\n",
        "      <td>1026</td><td>3835892</td>\n",
        "    </tr>\n",
        "    <tr>\n",
        "      <td>1027</td><td>3225010</td>\n",
        "    </tr>\n",
        "    <tr>\n",
        "      <td>1028</td><td>5287222</td>\n",
        "    </tr>\n",
        "    <tr>\n",
        "      <td>1029</td><td>3832608</td>\n",
        "    </tr>\n",
        "    <tr>\n",
        "      <td>1030</td><td>4218938</td>\n",
        "    </tr>\n",
        "    <tr>\n",
        "      <td>Total:</td><td>40428967</td>\n",
        "    </tr>\n",
        "  </tbody>\n",
        "</table>\t"
      ]
    },
    {
      "cell_type": "code",
      "metadata": {
        "id": "jHxHTmPm4nZA"
      },
      "source": [
        "# Begin production code\n",
        "# Importing required libraries for production run\n",
        "%matplotlib inline\n",
        "import numpy as np\n",
        "import matplotlib.pyplot as plt\n",
        "import scipy.stats as ss\n",
        "\n",
        "# Some plot style defaults\n",
        "plt.style.use('seaborn') # pretty matplotlib plots\n",
        "plt.rcParams['figure.figsize'] = (12, 8)"
      ],
      "execution_count": 1,
      "outputs": []
    },
    {
      "cell_type": "code",
      "metadata": {
        "id": "h-7eYJlBZ1TM"
      },
      "source": [
        "# Function to plot the standard beta distribution \n",
        "def plot_beta(x_range, a, b, pdf=True, **kwargs):\n",
        "  x = x_range\n",
        "  if pdf:\n",
        "    # probability density function\n",
        "    y = ss.beta.pdf(x,a,b)\n",
        "  else:\n",
        "    # cumulative density function\n",
        "    y = ss.beta.cdf(x,a,b)\n",
        "\n",
        "  plt.plot(x, y, **kwargs)"
      ],
      "execution_count": 2,
      "outputs": []
    },
    {
      "cell_type": "code",
      "metadata": {
        "id": "S8hCsd_-ZdnZ",
        "colab": {
          "base_uri": "https://localhost:8080/",
          "height": 282
        },
        "outputId": "87ff33d0-c6e4-499d-e9a5-cd6ecae68ed6"
      },
      "source": [
        "# Day 1 total records: 4122995\n",
        "# Day 1 total clicks: 718218\n",
        "# Day 1 click through rate 17%. This will be used to set the starting points for the simulation.\n",
        "# A CTR of 17% with 1000 rows would result in 170 \"wins\" and \"830\" losses. These will be used\n",
        "# as the initial alpha and beta values. \n",
        "initial_alpha = 17\n",
        "initial_beta = 83\n",
        "\n",
        "# Plot the probability density curve for an overall click through rate of 17% \n",
        "x = np.linspace(0,.35,5000)\n",
        "plot_beta(x, initial_alpha,initial_beta, label='Day 1 Click Through Rate')\n",
        "plt.legend()"
      ],
      "execution_count": 4,
      "outputs": [
        {
          "output_type": "execute_result",
          "data": {
            "text/plain": [
              "<matplotlib.legend.Legend at 0x7ff4991110d0>"
            ]
          },
          "metadata": {},
          "execution_count": 4
        },
        {
          "output_type": "display_data",
          "data": {
            "text/plain": [
              "<Figure size 432x288 with 1 Axes>"
            ],
            "image/png": "[encoded data removed]"
          },
          "metadata": {
            "needs_background": "light"
          }
        }
      ]
    },
    {
      "cell_type": "code",
      "metadata": {
        "id": "qXcY8Bq-6ARu"
      },
      "source": [
        "#Class to hold the properties for each ad campaign\n",
        "class AdCampaign():\n",
        "  def __init__(self, campaign_id):\n",
        "    self.id = campaign_id\n",
        "    \n",
        "    #positive observations(clicks)\n",
        "    self.clicks = 0\n",
        "    #negative observations(impressions - clicks)\n",
        "    self.no_clicks = 0\n",
        "\n",
        "    self.prior_alpha = initial_alpha\n",
        "    self.prior_beta = initial_beta\n",
        "\n",
        "  #return total number of impressions for this campaign\n",
        "  def total_impressions(self):\n",
        "    return self.clicks + self.no_clicks\n",
        "\n",
        "  #return a sample from the posterior distribution\n",
        "  def sample(self):\n",
        "    return np.random.beta(self.prior_alpha, self.prior_beta)\n",
        "\n",
        "  def compute_posterior(self):\n",
        "    self.prior_alpha = self.prior_alpha + self.clicks\n",
        "    self.prior_beta = self.prior_beta + self.no_clicks\n",
        "\n",
        "  def update_observations(self, clicks, impressions):\n",
        "    self.clicks = clicks\n",
        "    self.no_clicks = impressions - clicks\n",
        "\n",
        "  def reset_clicks(self):\n",
        "    self.clicks = 0\n",
        "    self.no_clicks = 0"
      ],
      "execution_count": 5,
      "outputs": []
    },
    {
      "cell_type": "code",
      "metadata": {
        "id": "BvfJfu3HXEA6",
        "colab": {
          "base_uri": "https://localhost:8080/"
        },
        "outputId": "735e5d72-0bcc-43f2-83e9-de33677bef60"
      },
      "source": [
        "# Initialize each ad campaign, then add it to the collection. Each ad displayed at an equal rate of 20% in a round robin fashion.\n",
        "# The update_observations(clicks, impressions) values are from the day 1 data at hour 00\n",
        "campaigns = []\n",
        "\n",
        "campaign = AdCampaign(1)\n",
        "campaign.update_observations(4242,23802) \n",
        "campaigns.append(campaign)\n",
        "\n",
        "campaign = AdCampaign(2)\n",
        "campaign.update_observations(3960,23801) \n",
        "campaigns.append(campaign)\n",
        "\n",
        "campaign = AdCampaign(3)\n",
        "campaign.update_observations(4209,23801) \n",
        "campaigns.append(campaign)\n",
        "\n",
        "campaign = AdCampaign(4)\n",
        "campaign.update_observations(4130,23801) \n",
        "campaigns.append(campaign)\n",
        "\n",
        "campaign = AdCampaign(5)\n",
        "campaign.update_observations(4251,23801) \n",
        "campaigns.append(campaign)\n",
        "\n",
        "print('Initial state of each campaign at their creation:')\n",
        "for c in campaigns:\n",
        "  print('Campaign {0}: prior_alpha: {1}, prior_beta: {2}, clicks: {3}, no_clicks: {4}, impressions: {5}'.format(c.id, c.prior_alpha, c.prior_beta, c.clicks, c.no_clicks, c.total_impressions()))"
      ],
      "execution_count": 6,
      "outputs": [
        {
          "output_type": "stream",
          "name": "stdout",
          "text": [
            "Initial state of each campaign at their creation:\n",
            "Campaign 1: prior_alpha: 17, prior_beta: 83, clicks: 4242, no_clicks: 19560, impressions: 23802\n",
            "Campaign 2: prior_alpha: 17, prior_beta: 83, clicks: 3960, no_clicks: 19841, impressions: 23801\n",
            "Campaign 3: prior_alpha: 17, prior_beta: 83, clicks: 4209, no_clicks: 19592, impressions: 23801\n",
            "Campaign 4: prior_alpha: 17, prior_beta: 83, clicks: 4130, no_clicks: 19671, impressions: 23801\n",
            "Campaign 5: prior_alpha: 17, prior_beta: 83, clicks: 4251, no_clicks: 19550, impressions: 23801\n"
          ]
        }
      ]
    },
    {
      "cell_type": "code",
      "metadata": {
        "id": "36d2U8kzhapM",
        "colab": {
          "base_uri": "https://localhost:8080/"
        },
        "outputId": "5b5e943c-e622-4443-92a6-a9bb6d399257"
      },
      "source": [
        "# Compute the posteriors for each class, then reset the click and impression counts back to \n",
        "# zero in preperation for being run through the simulation.\n",
        "\n",
        "for c in campaigns:\n",
        "    c.compute_posterior()\n",
        "    c.reset_clicks()\n",
        "\n",
        "print('State of each campaign after computing the posterior values from day 1 hour 00. Note: The clicks, no_clicks, and impressions columns are intentionally reset to 0 at the start of the simulation.')\n",
        "for c in campaigns:\n",
        "  print('Campaign {0}: prior_alpha: {1}, prior_beta: {2}, clicks: {3}, no_clicks: {4}, impressions: {5}'.format(c.id, c.prior_alpha, c.prior_beta, c.clicks, c.no_clicks, c.total_impressions()))"
      ],
      "execution_count": 7,
      "outputs": [
        {
          "output_type": "stream",
          "name": "stdout",
          "text": [
            "State of each campaign after computing the posterior values from day 1 hour 00. Note: The clicks, no_clicks, and impressions columns are intentionally reset to 0 at the start of the simulation.\n",
            "Campaign 1: prior_alpha: 4259, prior_beta: 19643, clicks: 0, no_clicks: 0, impressions: 0\n",
            "Campaign 2: prior_alpha: 3977, prior_beta: 19924, clicks: 0, no_clicks: 0, impressions: 0\n",
            "Campaign 3: prior_alpha: 4226, prior_beta: 19675, clicks: 0, no_clicks: 0, impressions: 0\n",
            "Campaign 4: prior_alpha: 4147, prior_beta: 19754, clicks: 0, no_clicks: 0, impressions: 0\n",
            "Campaign 5: prior_alpha: 4268, prior_beta: 19633, clicks: 0, no_clicks: 0, impressions: 0\n"
          ]
        }
      ]
    },
    {
      "cell_type": "code",
      "metadata": {
        "id": "tjdjtpiW7hWT",
        "colab": {
          "base_uri": "https://localhost:8080/",
          "height": 282
        },
        "outputId": "26725290-6732-45dd-b137-3f59dbfca2c5"
      },
      "source": [
        "# Plot the initial distribution curve of each ad based the uniform distribution at day 1 hour 00\n",
        "x = np.linspace(.155,.190,5000)\n",
        "\n",
        "plot_beta(x, campaigns[0].prior_alpha,campaigns[0].prior_beta, color='red', lw=2, alpha=0.5, label='Campaign: 1')\n",
        "plot_beta(x, campaigns[1].prior_alpha,campaigns[1].prior_beta, color='blue', lw=2, alpha=0.5, label='Campaign: 2')\n",
        "plot_beta(x, campaigns[2].prior_alpha,campaigns[2].prior_beta, color='green', lw=2, alpha=0.5, label='Campaign: 3')\n",
        "plot_beta(x, campaigns[3].prior_alpha,campaigns[3].prior_beta, color='orange', lw=2, alpha=0.5, label='Campaign: 4')\n",
        "plot_beta(x, campaigns[4].prior_alpha,campaigns[4].prior_beta, color='black', lw=2, alpha=0.5, label='Campaign: 5')\n",
        "\n",
        "plt.legend()"
      ],
      "execution_count": 8,
      "outputs": [
        {
          "output_type": "execute_result",
          "data": {
            "text/plain": [
              "<matplotlib.legend.Legend at 0x7ff4990d8c50>"
            ]
          },
          "metadata": {},
          "execution_count": 8
        },
        {
          "output_type": "display_data",
          "data": {
            "text/plain": [
              "<Figure size 432x288 with 1 Axes>"
            ],
            "image/png": "[encoded data removed]"
          },
          "metadata": {
            "needs_background": "light"
          }
        }
      ]
    },
    {
      "cell_type": "code",
      "metadata": {
        "id": "U2P_pTt8Ly-J"
      },
      "source": [
        ""
      ],
      "execution_count": null,
      "outputs": []
    },
    {
      "cell_type": "code",
      "metadata": {
        "id": "4fxCx6Kw36OE"
      },
      "source": [
        "# Function to try the selected campaign to determine whether or not it was clicked.\n",
        "def try_campaign(campaign, beta_val):\n",
        "  # np.random.random returns a random value between 0 and 1\n",
        "  if np.random.random() <= beta_val:\n",
        "    campaign.clicks += 1\n",
        "  else:\n",
        "    campaign.no_clicks += 1"
      ],
      "execution_count": 9,
      "outputs": []
    },
    {
      "cell_type": "code",
      "metadata": {
        "id": "Lp7ATiJ2qhg8",
        "colab": {
          "base_uri": "https://localhost:8080/"
        },
        "outputId": "1ed676e9-c9ce-4b88-f71f-31c0ad4fbf0a"
      },
      "source": [
        "# Run the simulation \n",
        "# Set the total number of trials\n",
        "NUM_TRIALS = 119006 \n",
        "#200028  #This is the total impressions for the hour being simulated\n",
        "\n",
        "# Function to reset the clicks / no clicks properties of each campaign while\n",
        "# maintaining the same priors\n",
        "for c in campaigns:\n",
        "  c.reset_clicks()\n",
        "  #print('prior_alpha: {0}'.format(c.prior_alpha));\n",
        "  #print('prior_beta: {0}'.format(c.prior_beta));\n",
        "\n",
        "for i in range(NUM_TRIALS):\n",
        "  best_campaign_id = -1\n",
        "  maxsample = -1\n",
        "  # allsamples = []\n",
        "  \n",
        "  # Sample each campaign for this trial\n",
        "  for c in campaigns:\n",
        "    # Get the beta sample for this campaign\n",
        "    current_campaign_sample = c.sample()\n",
        "    # Compare the beta value for this campaign to the \n",
        "    # max value seen so far. If it is greater, set it \n",
        "    # as the new max and record the campaign id with the \n",
        "    # best beta value for this trial. \n",
        "    if current_campaign_sample > maxsample:\n",
        "      maxsample = current_campaign_sample\n",
        "      best_campaign_id = c.id\n",
        "\n",
        "  # Show the selected campaign and determine whether or not it was clicked.\n",
        "  try_campaign(campaigns[best_campaign_id - 1], maxsample)\n",
        "\n",
        "traffic_percentage = {}\n",
        "for c in campaigns:\n",
        "  c.compute_posterior()\n",
        "  traffic_percentage = float(c.total_impressions()) / NUM_TRIALS\n",
        "  print('Campaign {0}'.format(c.id))\n",
        "  print('Number of times chosen with best beta value (e.g. impressions):{0}'.format((c.clicks + c.no_clicks)))\n",
        "  print('Clicks: {0}, No Clicks: {1}'.format(c.clicks, c.no_clicks))\n",
        "  print('Updated prior_alpha: {0}'.format(c.prior_alpha));\n",
        "  print('Updated prior_beta: {0}'.format(c.prior_beta));\n",
        "  print(f'Suggested traffic percentage for next iteration: {traffic_percentage:.1%}')\n",
        "  print('')"
      ],
      "execution_count": 19,
      "outputs": [
        {
          "output_type": "stream",
          "name": "stdout",
          "text": [
            "Campaign 1\n",
            "Number of times chosen with best beta value (e.g. impressions):53140\n",
            "Clicks: 9779, No Clicks: 43361\n",
            "Updated prior_alpha: 98500\n",
            "Updated prior_beta: 441832\n",
            "Suggested traffic percentage for next iteration: 44.7%\n",
            "\n",
            "Campaign 2\n",
            "Number of times chosen with best beta value (e.g. impressions):0\n",
            "Clicks: 0, No Clicks: 0\n",
            "Updated prior_alpha: 3977\n",
            "Updated prior_beta: 19924\n",
            "Suggested traffic percentage for next iteration: 0.0%\n",
            "\n",
            "Campaign 3\n",
            "Number of times chosen with best beta value (e.g. impressions):363\n",
            "Clicks: 58, No Clicks: 305\n",
            "Updated prior_alpha: 8880\n",
            "Updated prior_beta: 41163\n",
            "Suggested traffic percentage for next iteration: 0.3%\n",
            "\n",
            "Campaign 4\n",
            "Number of times chosen with best beta value (e.g. impressions):9\n",
            "Clicks: 0, No Clicks: 9\n",
            "Updated prior_alpha: 4545\n",
            "Updated prior_beta: 21642\n",
            "Suggested traffic percentage for next iteration: 0.0%\n",
            "\n",
            "Campaign 5\n",
            "Number of times chosen with best beta value (e.g. impressions):65494\n",
            "Clicks: 12032, No Clicks: 53462\n",
            "Updated prior_alpha: 100332\n",
            "Updated prior_beta: 449765\n",
            "Suggested traffic percentage for next iteration: 55.0%\n",
            "\n"
          ]
        }
      ]
    },
    {
      "cell_type": "code",
      "metadata": {
        "id": "_CADd0OZ7MIt",
        "colab": {
          "base_uri": "https://localhost:8080/",
          "height": 285
        },
        "outputId": "a2880c22-3723-42f6-8e2f-e017f1ea4f03"
      },
      "source": [
        "# Plot the updated distribution results of each ad\n",
        "\n",
        "x = np.linspace(.160,.185,5000)\n",
        "\n",
        "plot_beta(x, campaigns[0].prior_alpha,campaigns[0].prior_beta, color='red', lw=2, alpha=0.5, label='Campaign 1')\n",
        "plot_beta(x, campaigns[1].prior_alpha,campaigns[1].prior_beta, color='blue', lw=2, alpha=0.5, label='Campaign:2')\n",
        "plot_beta(x, campaigns[2].prior_alpha,campaigns[2].prior_beta, color='green', lw=2, alpha=0.5, label='Campaign:3')\n",
        "plot_beta(x, campaigns[3].prior_alpha,campaigns[3].prior_beta, color='orange', lw=2, alpha=0.5, label='Campaign:4')\n",
        "plot_beta(x, campaigns[4].prior_alpha,campaigns[4].prior_beta, color='black', lw=2, alpha=0.5, label='Campaign:5')\n",
        "\n",
        "plt.legend()\n",
        "  "
      ],
      "execution_count": 20,
      "outputs": [
        {
          "output_type": "execute_result",
          "data": {
            "text/plain": [
              "<matplotlib.legend.Legend at 0x7ff498ff9490>"
            ]
          },
          "metadata": {},
          "execution_count": 20
        },
        {
          "output_type": "display_data",
          "data": {
            "text/plain": [
              "<Figure size 432x288 with 1 Axes>"
            ],
            "image/png": "[encoded data removed]"
          },
          "metadata": {
            "needs_background": "light"
          }
        }
      ]
    },
    {
      "cell_type": "code",
      "metadata": {
        "id": "ZdiqXAe-KM3x",
        "colab": {
          "base_uri": "https://localhost:8080/"
        },
        "outputId": "20971c24-30b5-4a43-9ee4-5ee58ff1df65"
      },
      "source": [
        "\n",
        "\n",
        "\n"
      ],
      "execution_count": null,
      "outputs": [
        {
          "output_type": "stream",
          "text": [
            "prior_alpha: 47042\n",
            "prior_beta: 213457\n",
            "prior_alpha: 3978\n",
            "prior_beta: 19925\n",
            "prior_alpha: 15548\n",
            "prior_beta: 71582\n",
            "prior_alpha: 5078\n",
            "prior_beta: 24273\n",
            "prior_alpha: 67373\n",
            "prior_beta: 307525\n"
          ],
          "name": "stdout"
        }
      ]
    }
  ]
}